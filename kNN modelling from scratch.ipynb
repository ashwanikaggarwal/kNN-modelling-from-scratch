{
 "cells": [
  {
   "cell_type": "code",
   "execution_count": 1,
   "metadata": {},
   "outputs": [],
   "source": [
    "import numpy as np\n",
    "import pandas as pd\n",
    "import matplotlib.pyplot as plt\n",
    "pd.options.display.max_columns = 20\n",
    "pd.options.display.max_rows = None"
   ]
  },
  {
   "cell_type": "code",
   "execution_count": 2,
   "metadata": {},
   "outputs": [],
   "source": [
    "cars = pd.read_csv('cars.csv')"
   ]
  },
  {
   "cell_type": "code",
   "execution_count": 3,
   "metadata": {},
   "outputs": [
    {
     "data": {
      "text/html": [
       "<div>\n",
       "<style scoped>\n",
       "    .dataframe tbody tr th:only-of-type {\n",
       "        vertical-align: middle;\n",
       "    }\n",
       "\n",
       "    .dataframe tbody tr th {\n",
       "        vertical-align: top;\n",
       "    }\n",
       "\n",
       "    .dataframe thead th {\n",
       "        text-align: right;\n",
       "    }\n",
       "</style>\n",
       "<table border=\"1\" class=\"dataframe\">\n",
       "  <thead>\n",
       "    <tr style=\"text-align: right;\">\n",
       "      <th></th>\n",
       "      <th>Car</th>\n",
       "      <th>MPG</th>\n",
       "      <th>Cylinders</th>\n",
       "      <th>Displacement</th>\n",
       "      <th>Horsepower</th>\n",
       "      <th>Weight</th>\n",
       "      <th>Acceleration</th>\n",
       "      <th>Model</th>\n",
       "      <th>Origin</th>\n",
       "    </tr>\n",
       "  </thead>\n",
       "  <tbody>\n",
       "    <tr>\n",
       "      <th>0</th>\n",
       "      <td>Chevrolet Chevelle Malibu</td>\n",
       "      <td>18.0</td>\n",
       "      <td>8</td>\n",
       "      <td>307.0</td>\n",
       "      <td>130</td>\n",
       "      <td>3504</td>\n",
       "      <td>12.0</td>\n",
       "      <td>70</td>\n",
       "      <td>US</td>\n",
       "    </tr>\n",
       "    <tr>\n",
       "      <th>1</th>\n",
       "      <td>Buick Skylark 320</td>\n",
       "      <td>15.0</td>\n",
       "      <td>8</td>\n",
       "      <td>350.0</td>\n",
       "      <td>165</td>\n",
       "      <td>3693</td>\n",
       "      <td>11.5</td>\n",
       "      <td>70</td>\n",
       "      <td>US</td>\n",
       "    </tr>\n",
       "    <tr>\n",
       "      <th>2</th>\n",
       "      <td>Plymouth Satellite</td>\n",
       "      <td>18.0</td>\n",
       "      <td>8</td>\n",
       "      <td>318.0</td>\n",
       "      <td>150</td>\n",
       "      <td>3436</td>\n",
       "      <td>11.0</td>\n",
       "      <td>70</td>\n",
       "      <td>US</td>\n",
       "    </tr>\n",
       "    <tr>\n",
       "      <th>3</th>\n",
       "      <td>AMC Rebel SST</td>\n",
       "      <td>16.0</td>\n",
       "      <td>8</td>\n",
       "      <td>304.0</td>\n",
       "      <td>150</td>\n",
       "      <td>3433</td>\n",
       "      <td>12.0</td>\n",
       "      <td>70</td>\n",
       "      <td>US</td>\n",
       "    </tr>\n",
       "    <tr>\n",
       "      <th>4</th>\n",
       "      <td>Ford Torino</td>\n",
       "      <td>17.0</td>\n",
       "      <td>8</td>\n",
       "      <td>302.0</td>\n",
       "      <td>140</td>\n",
       "      <td>3449</td>\n",
       "      <td>10.5</td>\n",
       "      <td>70</td>\n",
       "      <td>US</td>\n",
       "    </tr>\n",
       "  </tbody>\n",
       "</table>\n",
       "</div>"
      ],
      "text/plain": [
       "                         Car   MPG  Cylinders  Displacement  Horsepower  \\\n",
       "0  Chevrolet Chevelle Malibu  18.0          8         307.0         130   \n",
       "1          Buick Skylark 320  15.0          8         350.0         165   \n",
       "2         Plymouth Satellite  18.0          8         318.0         150   \n",
       "3              AMC Rebel SST  16.0          8         304.0         150   \n",
       "4                Ford Torino  17.0          8         302.0         140   \n",
       "\n",
       "   Weight  Acceleration  Model Origin  \n",
       "0    3504          12.0     70     US  \n",
       "1    3693          11.5     70     US  \n",
       "2    3436          11.0     70     US  \n",
       "3    3433          12.0     70     US  \n",
       "4    3449          10.5     70     US  "
      ]
     },
     "execution_count": 3,
     "metadata": {},
     "output_type": "execute_result"
    }
   ],
   "source": [
    "cars.head()"
   ]
  },
  {
   "cell_type": "code",
   "execution_count": 4,
   "metadata": {},
   "outputs": [
    {
     "data": {
      "text/plain": [
       "(406, 9)"
      ]
     },
     "execution_count": 4,
     "metadata": {},
     "output_type": "execute_result"
    }
   ],
   "source": [
    "cars.shape #406 rows and 9 columns"
   ]
  },
  {
   "cell_type": "code",
   "execution_count": 5,
   "metadata": {},
   "outputs": [
    {
     "data": {
      "text/plain": [
       "True"
      ]
     },
     "execution_count": 5,
     "metadata": {},
     "output_type": "execute_result"
    }
   ],
   "source": [
    "#checking 0's in the cars dataset\n",
    "0 in cars.values"
   ]
  },
  {
   "cell_type": "code",
   "execution_count": 6,
   "metadata": {},
   "outputs": [
    {
     "data": {
      "text/html": [
       "<div>\n",
       "<style scoped>\n",
       "    .dataframe tbody tr th:only-of-type {\n",
       "        vertical-align: middle;\n",
       "    }\n",
       "\n",
       "    .dataframe tbody tr th {\n",
       "        vertical-align: top;\n",
       "    }\n",
       "\n",
       "    .dataframe thead th {\n",
       "        text-align: right;\n",
       "    }\n",
       "</style>\n",
       "<table border=\"1\" class=\"dataframe\">\n",
       "  <thead>\n",
       "    <tr style=\"text-align: right;\">\n",
       "      <th></th>\n",
       "      <th>Car</th>\n",
       "      <th>MPG</th>\n",
       "      <th>Cylinders</th>\n",
       "      <th>Displacement</th>\n",
       "      <th>Horsepower</th>\n",
       "      <th>Weight</th>\n",
       "      <th>Acceleration</th>\n",
       "      <th>Model</th>\n",
       "      <th>Origin</th>\n",
       "    </tr>\n",
       "  </thead>\n",
       "  <tbody>\n",
       "    <tr>\n",
       "      <th>10</th>\n",
       "      <td>Citroen DS-21 Pallas</td>\n",
       "      <td>0.0</td>\n",
       "      <td>4</td>\n",
       "      <td>133.0</td>\n",
       "      <td>115</td>\n",
       "      <td>3090</td>\n",
       "      <td>17.5</td>\n",
       "      <td>70</td>\n",
       "      <td>Europe</td>\n",
       "    </tr>\n",
       "    <tr>\n",
       "      <th>11</th>\n",
       "      <td>Chevrolet Chevelle Concours (sw)</td>\n",
       "      <td>0.0</td>\n",
       "      <td>8</td>\n",
       "      <td>350.0</td>\n",
       "      <td>165</td>\n",
       "      <td>4142</td>\n",
       "      <td>11.5</td>\n",
       "      <td>70</td>\n",
       "      <td>US</td>\n",
       "    </tr>\n",
       "    <tr>\n",
       "      <th>12</th>\n",
       "      <td>Ford Torino (sw)</td>\n",
       "      <td>0.0</td>\n",
       "      <td>8</td>\n",
       "      <td>351.0</td>\n",
       "      <td>153</td>\n",
       "      <td>4034</td>\n",
       "      <td>11.0</td>\n",
       "      <td>70</td>\n",
       "      <td>US</td>\n",
       "    </tr>\n",
       "    <tr>\n",
       "      <th>13</th>\n",
       "      <td>Plymouth Satellite (sw)</td>\n",
       "      <td>0.0</td>\n",
       "      <td>8</td>\n",
       "      <td>383.0</td>\n",
       "      <td>175</td>\n",
       "      <td>4166</td>\n",
       "      <td>10.5</td>\n",
       "      <td>70</td>\n",
       "      <td>US</td>\n",
       "    </tr>\n",
       "    <tr>\n",
       "      <th>14</th>\n",
       "      <td>AMC Rebel SST (sw)</td>\n",
       "      <td>0.0</td>\n",
       "      <td>8</td>\n",
       "      <td>360.0</td>\n",
       "      <td>175</td>\n",
       "      <td>3850</td>\n",
       "      <td>11.0</td>\n",
       "      <td>70</td>\n",
       "      <td>US</td>\n",
       "    </tr>\n",
       "    <tr>\n",
       "      <th>17</th>\n",
       "      <td>Ford Mustang Boss 302</td>\n",
       "      <td>0.0</td>\n",
       "      <td>8</td>\n",
       "      <td>302.0</td>\n",
       "      <td>140</td>\n",
       "      <td>3353</td>\n",
       "      <td>8.0</td>\n",
       "      <td>70</td>\n",
       "      <td>US</td>\n",
       "    </tr>\n",
       "    <tr>\n",
       "      <th>39</th>\n",
       "      <td>Volkswagen Super Beetle 117</td>\n",
       "      <td>0.0</td>\n",
       "      <td>4</td>\n",
       "      <td>97.0</td>\n",
       "      <td>48</td>\n",
       "      <td>1978</td>\n",
       "      <td>20.0</td>\n",
       "      <td>71</td>\n",
       "      <td>Europe</td>\n",
       "    </tr>\n",
       "    <tr>\n",
       "      <th>367</th>\n",
       "      <td>Saab 900s</td>\n",
       "      <td>0.0</td>\n",
       "      <td>4</td>\n",
       "      <td>121.0</td>\n",
       "      <td>110</td>\n",
       "      <td>2800</td>\n",
       "      <td>15.4</td>\n",
       "      <td>81</td>\n",
       "      <td>Europe</td>\n",
       "    </tr>\n",
       "  </tbody>\n",
       "</table>\n",
       "</div>"
      ],
      "text/plain": [
       "                                  Car  MPG  Cylinders  Displacement  \\\n",
       "10               Citroen DS-21 Pallas  0.0          4         133.0   \n",
       "11   Chevrolet Chevelle Concours (sw)  0.0          8         350.0   \n",
       "12                   Ford Torino (sw)  0.0          8         351.0   \n",
       "13            Plymouth Satellite (sw)  0.0          8         383.0   \n",
       "14                 AMC Rebel SST (sw)  0.0          8         360.0   \n",
       "17              Ford Mustang Boss 302  0.0          8         302.0   \n",
       "39        Volkswagen Super Beetle 117  0.0          4          97.0   \n",
       "367                         Saab 900s  0.0          4         121.0   \n",
       "\n",
       "     Horsepower  Weight  Acceleration  Model  Origin  \n",
       "10          115    3090          17.5     70  Europe  \n",
       "11          165    4142          11.5     70      US  \n",
       "12          153    4034          11.0     70      US  \n",
       "13          175    4166          10.5     70      US  \n",
       "14          175    3850          11.0     70      US  \n",
       "17          140    3353           8.0     70      US  \n",
       "39           48    1978          20.0     71  Europe  \n",
       "367         110    2800          15.4     81  Europe  "
      ]
     },
     "execution_count": 6,
     "metadata": {},
     "output_type": "execute_result"
    }
   ],
   "source": [
    "cars[cars[\"MPG\"]==0] #rows having 0 values for MPG"
   ]
  },
  {
   "cell_type": "code",
   "execution_count": 7,
   "metadata": {},
   "outputs": [
    {
     "data": {
      "text/html": [
       "<div>\n",
       "<style scoped>\n",
       "    .dataframe tbody tr th:only-of-type {\n",
       "        vertical-align: middle;\n",
       "    }\n",
       "\n",
       "    .dataframe tbody tr th {\n",
       "        vertical-align: top;\n",
       "    }\n",
       "\n",
       "    .dataframe thead th {\n",
       "        text-align: right;\n",
       "    }\n",
       "</style>\n",
       "<table border=\"1\" class=\"dataframe\">\n",
       "  <thead>\n",
       "    <tr style=\"text-align: right;\">\n",
       "      <th></th>\n",
       "      <th>Car</th>\n",
       "      <th>MPG</th>\n",
       "      <th>Cylinders</th>\n",
       "      <th>Displacement</th>\n",
       "      <th>Horsepower</th>\n",
       "      <th>Weight</th>\n",
       "      <th>Acceleration</th>\n",
       "      <th>Model</th>\n",
       "      <th>Origin</th>\n",
       "    </tr>\n",
       "  </thead>\n",
       "  <tbody>\n",
       "    <tr>\n",
       "      <th>38</th>\n",
       "      <td>Ford Pinto</td>\n",
       "      <td>25.0</td>\n",
       "      <td>4</td>\n",
       "      <td>98.0</td>\n",
       "      <td>0</td>\n",
       "      <td>2046</td>\n",
       "      <td>19.0</td>\n",
       "      <td>71</td>\n",
       "      <td>US</td>\n",
       "    </tr>\n",
       "    <tr>\n",
       "      <th>133</th>\n",
       "      <td>Ford Maverick</td>\n",
       "      <td>21.0</td>\n",
       "      <td>6</td>\n",
       "      <td>200.0</td>\n",
       "      <td>0</td>\n",
       "      <td>2875</td>\n",
       "      <td>17.0</td>\n",
       "      <td>74</td>\n",
       "      <td>US</td>\n",
       "    </tr>\n",
       "    <tr>\n",
       "      <th>337</th>\n",
       "      <td>Renault Lecar Deluxe</td>\n",
       "      <td>40.9</td>\n",
       "      <td>4</td>\n",
       "      <td>85.0</td>\n",
       "      <td>0</td>\n",
       "      <td>1835</td>\n",
       "      <td>17.3</td>\n",
       "      <td>80</td>\n",
       "      <td>Europe</td>\n",
       "    </tr>\n",
       "    <tr>\n",
       "      <th>343</th>\n",
       "      <td>Ford Mustang Cobra</td>\n",
       "      <td>23.6</td>\n",
       "      <td>4</td>\n",
       "      <td>140.0</td>\n",
       "      <td>0</td>\n",
       "      <td>2905</td>\n",
       "      <td>14.3</td>\n",
       "      <td>80</td>\n",
       "      <td>US</td>\n",
       "    </tr>\n",
       "    <tr>\n",
       "      <th>361</th>\n",
       "      <td>Renault 18i</td>\n",
       "      <td>34.5</td>\n",
       "      <td>4</td>\n",
       "      <td>100.0</td>\n",
       "      <td>0</td>\n",
       "      <td>2320</td>\n",
       "      <td>15.8</td>\n",
       "      <td>81</td>\n",
       "      <td>Europe</td>\n",
       "    </tr>\n",
       "    <tr>\n",
       "      <th>382</th>\n",
       "      <td>AMC Concord DL</td>\n",
       "      <td>23.0</td>\n",
       "      <td>4</td>\n",
       "      <td>151.0</td>\n",
       "      <td>0</td>\n",
       "      <td>3035</td>\n",
       "      <td>20.5</td>\n",
       "      <td>82</td>\n",
       "      <td>US</td>\n",
       "    </tr>\n",
       "  </tbody>\n",
       "</table>\n",
       "</div>"
      ],
      "text/plain": [
       "                      Car   MPG  Cylinders  Displacement  Horsepower  Weight  \\\n",
       "38             Ford Pinto  25.0          4          98.0           0    2046   \n",
       "133         Ford Maverick  21.0          6         200.0           0    2875   \n",
       "337  Renault Lecar Deluxe  40.9          4          85.0           0    1835   \n",
       "343    Ford Mustang Cobra  23.6          4         140.0           0    2905   \n",
       "361           Renault 18i  34.5          4         100.0           0    2320   \n",
       "382        AMC Concord DL  23.0          4         151.0           0    3035   \n",
       "\n",
       "     Acceleration  Model  Origin  \n",
       "38           19.0     71      US  \n",
       "133          17.0     74      US  \n",
       "337          17.3     80  Europe  \n",
       "343          14.3     80      US  \n",
       "361          15.8     81  Europe  \n",
       "382          20.5     82      US  "
      ]
     },
     "execution_count": 7,
     "metadata": {},
     "output_type": "execute_result"
    }
   ],
   "source": [
    "cars[cars[\"Horsepower\"]==0] #rows having 0 values for Horsepower"
   ]
  },
  {
   "cell_type": "markdown",
   "metadata": {},
   "source": [
    "# Filtering the rows"
   ]
  },
  {
   "cell_type": "code",
   "execution_count": 8,
   "metadata": {},
   "outputs": [],
   "source": [
    "#taking the required columns\n",
    "df = cars[[\"Cylinders\",\"Weight\",\"Horsepower\",\"MPG\"]]"
   ]
  },
  {
   "cell_type": "code",
   "execution_count": 9,
   "metadata": {},
   "outputs": [],
   "source": [
    "#filtering the rows having non zero value for the variable Horsepower into df\n",
    "df = df[df[\"Horsepower\"]!=0]"
   ]
  },
  {
   "cell_type": "code",
   "execution_count": 10,
   "metadata": {},
   "outputs": [],
   "source": [
    "#filtering the rows having non zero value value for the variable MPG into df\n",
    "df = df[df[\"MPG\"]!=0]"
   ]
  },
  {
   "cell_type": "code",
   "execution_count": 11,
   "metadata": {},
   "outputs": [
    {
     "data": {
      "text/plain": [
       "(392, 4)"
      ]
     },
     "execution_count": 11,
     "metadata": {},
     "output_type": "execute_result"
    }
   ],
   "source": [
    "#total rows reduced to 392 and columns reduced to 4 after filtering\n",
    "df.shape"
   ]
  },
  {
   "cell_type": "code",
   "execution_count": 12,
   "metadata": {},
   "outputs": [
    {
     "data": {
      "text/plain": [
       "Cylinders     0\n",
       "Weight        0\n",
       "Horsepower    0\n",
       "MPG           0\n",
       "dtype: int64"
      ]
     },
     "execution_count": 12,
     "metadata": {},
     "output_type": "execute_result"
    }
   ],
   "source": [
    "#checking for null values\n",
    "df.isnull().sum()"
   ]
  },
  {
   "cell_type": "code",
   "execution_count": 13,
   "metadata": {},
   "outputs": [
    {
     "data": {
      "text/plain": [
       "False"
      ]
     },
     "execution_count": 13,
     "metadata": {},
     "output_type": "execute_result"
    }
   ],
   "source": [
    "#checking for 0's in dataset\n",
    "0 in df.values"
   ]
  },
  {
   "cell_type": "markdown",
   "metadata": {},
   "source": [
    "# Standardization of the predictors"
   ]
  },
  {
   "cell_type": "markdown",
   "metadata": {},
   "source": [
    "predictor variables selected: Cylinders,Weight and Horsepower.Standardizing the variables to make them all in same range.\n",
    "\n",
    "Target variable is MPG"
   ]
  },
  {
   "cell_type": "code",
   "execution_count": 14,
   "metadata": {},
   "outputs": [],
   "source": [
    "#finding the mean and the standard deviation for the 3 predictor variables\n",
    "\n",
    "def mean_sd(x):\n",
    "    mean = x.mean()\n",
    "    sd = x.std()\n",
    "    return mean,sd\n",
    "#storing the mean and standard deviation in different variables\n",
    "cylinders_mean,cylinders_sd = mean_sd(df.Cylinders)\n",
    "Weight_mean,Weight_sd = mean_sd(df.Weight)\n",
    "Horsepower_mean,Horsepower_sd = mean_sd(df.Horsepower)    "
   ]
  },
  {
   "cell_type": "code",
   "execution_count": 15,
   "metadata": {},
   "outputs": [
    {
     "name": "stdout",
     "output_type": "stream",
     "text": [
      "mean of Cylinders : 5.471938775510204\n",
      "Standard Deviation of Cylinders : 1.7057832474527843\n"
     ]
    }
   ],
   "source": [
    "print(\"mean of Cylinders : \" + str(cylinders_mean))\n",
    "print(\"Standard Deviation of Cylinders : \" + str(cylinders_sd))"
   ]
  },
  {
   "cell_type": "code",
   "execution_count": 16,
   "metadata": {},
   "outputs": [
    {
     "name": "stdout",
     "output_type": "stream",
     "text": [
      "mean of Weight : 2977.5841836734694\n",
      "Standard Deviation of Weight : 849.4025600429494\n"
     ]
    }
   ],
   "source": [
    "print(\"mean of Weight : \" + str(Weight_mean))\n",
    "print(\"Standard Deviation of Weight : \" + str(Weight_sd))"
   ]
  },
  {
   "cell_type": "code",
   "execution_count": 17,
   "metadata": {},
   "outputs": [
    {
     "name": "stdout",
     "output_type": "stream",
     "text": [
      "mean of Horsepower : 104.46938775510205\n",
      "Standard Deviation of Horsepower : 38.49115993282855\n"
     ]
    }
   ],
   "source": [
    "print(\"mean of Horsepower : \" + str(Horsepower_mean))\n",
    "print(\"Standard Deviation of Horsepower : \" + str(Horsepower_sd))"
   ]
  },
  {
   "cell_type": "code",
   "execution_count": 18,
   "metadata": {},
   "outputs": [],
   "source": [
    "# standardizing the values for the predictors using formula (x-mu)/sigma\n",
    "\n",
    "def standardize(a_mean,b_sd,data):\n",
    "    standardize = []\n",
    "    for i in data:\n",
    "        c = (i-a_mean)/b_sd\n",
    "        standardize.append(c)\n",
    "    return standardize\n",
    "\n",
    "#standardized values are copied to seperate data frames\n",
    "Cylinders_standardized = pd.DataFrame(standardize(cylinders_mean,cylinders_sd,df.Cylinders),columns=[\"CYLINDERS\"])\n",
    "weight_standardized = pd.DataFrame(standardize(Weight_mean,Weight_sd,df.Weight),columns=[\"WEIGHT\"])\n",
    "horsepower_standardized = pd.DataFrame(standardize(Horsepower_mean,Horsepower_sd,df.Horsepower),columns=[\"HORSEPOWER\"])\n",
    "\n",
    "\n"
   ]
  },
  {
   "cell_type": "code",
   "execution_count": 19,
   "metadata": {},
   "outputs": [],
   "source": [
    "#concatenating the 3 standardized data frames into one\n",
    "df_standardized = pd.concat([Cylinders_standardized,weight_standardized,horsepower_standardized],axis = 1)"
   ]
  },
  {
   "cell_type": "code",
   "execution_count": 20,
   "metadata": {},
   "outputs": [
    {
     "data": {
      "text/html": [
       "<div>\n",
       "<style scoped>\n",
       "    .dataframe tbody tr th:only-of-type {\n",
       "        vertical-align: middle;\n",
       "    }\n",
       "\n",
       "    .dataframe tbody tr th {\n",
       "        vertical-align: top;\n",
       "    }\n",
       "\n",
       "    .dataframe thead th {\n",
       "        text-align: right;\n",
       "    }\n",
       "</style>\n",
       "<table border=\"1\" class=\"dataframe\">\n",
       "  <thead>\n",
       "    <tr style=\"text-align: right;\">\n",
       "      <th></th>\n",
       "      <th>CYLINDERS</th>\n",
       "      <th>WEIGHT</th>\n",
       "      <th>HORSEPOWER</th>\n",
       "    </tr>\n",
       "  </thead>\n",
       "  <tbody>\n",
       "    <tr>\n",
       "      <th>0</th>\n",
       "      <td>1.482053</td>\n",
       "      <td>0.619748</td>\n",
       "      <td>0.663285</td>\n",
       "    </tr>\n",
       "    <tr>\n",
       "      <th>1</th>\n",
       "      <td>1.482053</td>\n",
       "      <td>0.842258</td>\n",
       "      <td>1.572585</td>\n",
       "    </tr>\n",
       "    <tr>\n",
       "      <th>2</th>\n",
       "      <td>1.482053</td>\n",
       "      <td>0.539692</td>\n",
       "      <td>1.182885</td>\n",
       "    </tr>\n",
       "    <tr>\n",
       "      <th>3</th>\n",
       "      <td>1.482053</td>\n",
       "      <td>0.536160</td>\n",
       "      <td>1.182885</td>\n",
       "    </tr>\n",
       "    <tr>\n",
       "      <th>4</th>\n",
       "      <td>1.482053</td>\n",
       "      <td>0.554997</td>\n",
       "      <td>0.923085</td>\n",
       "    </tr>\n",
       "  </tbody>\n",
       "</table>\n",
       "</div>"
      ],
      "text/plain": [
       "   CYLINDERS    WEIGHT  HORSEPOWER\n",
       "0   1.482053  0.619748    0.663285\n",
       "1   1.482053  0.842258    1.572585\n",
       "2   1.482053  0.539692    1.182885\n",
       "3   1.482053  0.536160    1.182885\n",
       "4   1.482053  0.554997    0.923085"
      ]
     },
     "execution_count": 20,
     "metadata": {},
     "output_type": "execute_result"
    }
   ],
   "source": [
    "#standardized dataframe containing predictor variables\n",
    "df_standardized.head() \n"
   ]
  },
  {
   "cell_type": "markdown",
   "metadata": {},
   "source": [
    "# Splitting the dataframe into train and test"
   ]
  },
  {
   "cell_type": "code",
   "execution_count": 21,
   "metadata": {},
   "outputs": [],
   "source": [
    "\"\"\"\n",
    "converting the table into testX and testY. Here the first row of the dataset(df_standardized for predictor variables \n",
    "and df for target)is selected for testing.\n",
    "\"\"\"\n",
    "\n",
    "testX = df_standardized.iloc[0,[0,1,2]] #using the standardized dataset\n",
    "testY = df.MPG[0] #using the original dataset df"
   ]
  },
  {
   "cell_type": "code",
   "execution_count": 22,
   "metadata": {},
   "outputs": [],
   "source": [
    "\"\"\"\n",
    "converting the table into trainX and trainY. Here all the rows except the first row of the dataset(df_standardized \n",
    "for predictor variables and df for target) is selected for testing.\n",
    "\"\"\"\n",
    "trainX = df_standardized.iloc[1:392, [0,1,2]] #using the standardized dataset\n",
    "trainY = df.MPG[1:392] #using the original dataset df"
   ]
  },
  {
   "cell_type": "code",
   "execution_count": 23,
   "metadata": {},
   "outputs": [],
   "source": [
    "#resetting the trainX and trainY index to start from 0\n",
    "trainX = trainX.reset_index(drop =True)\n",
    "trainY = trainY.reset_index(drop=True)"
   ]
  },
  {
   "cell_type": "code",
   "execution_count": 24,
   "metadata": {},
   "outputs": [
    {
     "data": {
      "text/html": [
       "<div>\n",
       "<style scoped>\n",
       "    .dataframe tbody tr th:only-of-type {\n",
       "        vertical-align: middle;\n",
       "    }\n",
       "\n",
       "    .dataframe tbody tr th {\n",
       "        vertical-align: top;\n",
       "    }\n",
       "\n",
       "    .dataframe thead th {\n",
       "        text-align: right;\n",
       "    }\n",
       "</style>\n",
       "<table border=\"1\" class=\"dataframe\">\n",
       "  <thead>\n",
       "    <tr style=\"text-align: right;\">\n",
       "      <th></th>\n",
       "      <th>CYLINDERS</th>\n",
       "      <th>WEIGHT</th>\n",
       "      <th>HORSEPOWER</th>\n",
       "    </tr>\n",
       "  </thead>\n",
       "  <tbody>\n",
       "    <tr>\n",
       "      <th>0</th>\n",
       "      <td>1.482053</td>\n",
       "      <td>0.842258</td>\n",
       "      <td>1.572585</td>\n",
       "    </tr>\n",
       "    <tr>\n",
       "      <th>1</th>\n",
       "      <td>1.482053</td>\n",
       "      <td>0.539692</td>\n",
       "      <td>1.182885</td>\n",
       "    </tr>\n",
       "    <tr>\n",
       "      <th>2</th>\n",
       "      <td>1.482053</td>\n",
       "      <td>0.536160</td>\n",
       "      <td>1.182885</td>\n",
       "    </tr>\n",
       "    <tr>\n",
       "      <th>3</th>\n",
       "      <td>1.482053</td>\n",
       "      <td>0.554997</td>\n",
       "      <td>0.923085</td>\n",
       "    </tr>\n",
       "    <tr>\n",
       "      <th>4</th>\n",
       "      <td>1.482053</td>\n",
       "      <td>1.605147</td>\n",
       "      <td>2.429924</td>\n",
       "    </tr>\n",
       "  </tbody>\n",
       "</table>\n",
       "</div>"
      ],
      "text/plain": [
       "   CYLINDERS    WEIGHT  HORSEPOWER\n",
       "0   1.482053  0.842258    1.572585\n",
       "1   1.482053  0.539692    1.182885\n",
       "2   1.482053  0.536160    1.182885\n",
       "3   1.482053  0.554997    0.923085\n",
       "4   1.482053  1.605147    2.429924"
      ]
     },
     "execution_count": 24,
     "metadata": {},
     "output_type": "execute_result"
    }
   ],
   "source": [
    "#trainX variables(predictors)\n",
    "trainX.head()"
   ]
  },
  {
   "cell_type": "code",
   "execution_count": 25,
   "metadata": {},
   "outputs": [
    {
     "data": {
      "text/plain": [
       "0    15.0\n",
       "1    18.0\n",
       "2    16.0\n",
       "3    17.0\n",
       "4    15.0\n",
       "Name: MPG, dtype: float64"
      ]
     },
     "execution_count": 25,
     "metadata": {},
     "output_type": "execute_result"
    }
   ],
   "source": [
    "#trainY variables(target)\n",
    "trainY.head()"
   ]
  },
  {
   "cell_type": "code",
   "execution_count": 26,
   "metadata": {},
   "outputs": [
    {
     "data": {
      "text/plain": [
       "CYLINDERS     1.482053\n",
       "WEIGHT        0.619748\n",
       "HORSEPOWER    0.663285\n",
       "Name: 0, dtype: float64"
      ]
     },
     "execution_count": 26,
     "metadata": {},
     "output_type": "execute_result"
    }
   ],
   "source": [
    "#testing variables(predictors)\n",
    "testX "
   ]
  },
  {
   "cell_type": "code",
   "execution_count": 27,
   "metadata": {},
   "outputs": [
    {
     "data": {
      "text/plain": [
       "18.0"
      ]
     },
     "execution_count": 27,
     "metadata": {},
     "output_type": "execute_result"
    }
   ],
   "source": [
    "#testing variables(target)\n",
    "testY"
   ]
  },
  {
   "cell_type": "markdown",
   "metadata": {},
   "source": [
    "# Modelling using kNN"
   ]
  },
  {
   "cell_type": "code",
   "execution_count": 28,
   "metadata": {},
   "outputs": [],
   "source": [
    "#function to find euclidean distance\n",
    "def euclidean(train,test):\n",
    "    d = 0\n",
    "\n",
    "    for i in range(len(train)):\n",
    "        d = d + (train[i]-test[i])**2\n",
    "\n",
    "    return(np.sqrt(d))"
   ]
  },
  {
   "cell_type": "code",
   "execution_count": 29,
   "metadata": {},
   "outputs": [],
   "source": [
    "#function to create knn algorithm\n",
    "def knn(trainX, trainY, testX, k):\n",
    "#ecuclidean   distance gets appended for each of the train values with test values.  \n",
    "    dist = []\n",
    "    \n",
    "    for i in range(0, len(trainX)):\n",
    "        dist.append(euclidean(testX, trainX.iloc[i,[0,1,2]]))\n",
    "#a copy of dist is taken for finding the index\n",
    "    d = dist.copy()\n",
    "#arranging the distances in ascending order\n",
    "    dist.sort()\n",
    "    index = []\n",
    "#for the corresponding k value for kNN, indexes get appended according to the position of the minimum distances covered \n",
    "    for i in range(0,k):\n",
    "        indx = d.index(dist[i])\n",
    "        index.append(indx)\n",
    "#after appending, the index is changed to -1 so that it will not be picked again  if there is a tie \n",
    "        d[indx] = -1\n",
    "\n",
    "    pred_y = np.mean(trainY[index])\n",
    "#gives the predicted y value for each k value\n",
    "    return(pred_y)\n",
    "\n"
   ]
  },
  {
   "cell_type": "markdown",
   "metadata": {},
   "source": [
    "# Prediction of the kNN model"
   ]
  },
  {
   "cell_type": "code",
   "execution_count": 30,
   "metadata": {},
   "outputs": [
    {
     "data": {
      "text/plain": [
       "18.68"
      ]
     },
     "execution_count": 30,
     "metadata": {},
     "output_type": "execute_result"
    }
   ],
   "source": [
    "#predicted y value for k =5\n",
    "knn(trainX, trainY, testX, 5) "
   ]
  },
  {
   "cell_type": "code",
   "execution_count": 31,
   "metadata": {},
   "outputs": [
    {
     "data": {
      "text/plain": [
       "18.0"
      ]
     },
     "execution_count": 31,
     "metadata": {},
     "output_type": "execute_result"
    }
   ],
   "source": [
    "#original value\n",
    "testY"
   ]
  },
  {
   "cell_type": "code",
   "execution_count": 32,
   "metadata": {},
   "outputs": [
    {
     "data": {
      "text/plain": [
       "0.6799999999999997"
      ]
     },
     "execution_count": 32,
     "metadata": {},
     "output_type": "execute_result"
    }
   ],
   "source": [
    "#absolute difference between the original target Y value with respect to the predicted y value having k=5\n",
    "abs(testY-knn(trainX, trainY, testX, k = 5))"
   ]
  },
  {
   "cell_type": "code",
   "execution_count": 33,
   "metadata": {},
   "outputs": [
    {
     "name": "stdout",
     "output_type": "stream",
     "text": [
      "kNN for k = 1 is 19.2\n",
      "kNN for k = 2 is 19.7\n",
      "kNN for k = 3 is 19.0\n",
      "kNN for k = 4 is 18.5\n",
      "kNN for k = 5 is 18.68\n",
      "kNN for k = 6 is 17.733333333333334\n",
      "kNN for k = 7 is 17.62857142857143\n",
      "kNN for k = 8 is 17.825\n",
      "kNN for k = 9 is 17.866666666666664\n",
      "kNN for k = 10 is 17.889999999999997\n",
      "kNN for k = 11 is 17.44545454545454\n",
      "kNN for k = 12 is 17.90833333333333\n",
      "kNN for k = 13 is 17.915384615384614\n",
      "kNN for k = 14 is 17.77857142857143\n",
      "kNN for k = 15 is 17.59333333333333\n",
      "kNN for k = 16 is 17.737499999999997\n",
      "kNN for k = 17 is 17.69411764705882\n",
      "kNN for k = 18 is 17.488888888888887\n",
      "kNN for k = 19 is 17.436842105263157\n",
      "kNN for k = 20 is 17.439999999999998\n"
     ]
    }
   ],
   "source": [
    "#finding the pred_y for k ranging from 1 to 20.\n",
    "for k in range(1,21):\n",
    "    print(\"kNN for k = \" + str(k) + \" is \" + str(knn(trainX, trainY,testX, k)))\n",
    "        "
   ]
  },
  {
   "cell_type": "code",
   "execution_count": 34,
   "metadata": {},
   "outputs": [
    {
     "data": {
      "text/plain": [
       "Text(0.5, 1.0, 'kNN value vs predicted Y')"
      ]
     },
     "execution_count": 34,
     "metadata": {},
     "output_type": "execute_result"
    },
    {
     "data": {
      "image/png": "[encoded data removed]",
      "text/plain": [
       "<Figure size 432x288 with 1 Axes>"
      ]
     },
     "metadata": {
      "needs_background": "light"
     },
     "output_type": "display_data"
    }
   ],
   "source": [
    "#plotting k values of kNN with respect to their predicetd Y values\n",
    "predicted_y =[]\n",
    "for i in range(1,21):\n",
    "    i = knn(trainX, trainY,testX, k=i)\n",
    "    predicted_y.append(i)\n",
    "plt.plot(range(1,21),predicted_y,color = \"r\",marker = \"o\",markersize = 4,markerfacecolor=\"yellow\",markeredgewidth = 2)\n",
    "plt.xlabel(\"kNN value from 1 to 20\")\n",
    "plt.ylabel(\"predicted Y\")    \n",
    "plt.title(\"kNN value vs predicted Y\")"
   ]
  }
 ],
 "metadata": {
  "kernelspec": {
   "display_name": "Python 3",
   "language": "python",
   "name": "python3"
  },
  "language_info": {
   "codemirror_mode": {
    "name": "ipython",
    "version": 3
   },
   "file_extension": ".py",
   "mimetype": "text/x-python",
   "name": "python",
   "nbconvert_exporter": "python",
   "pygments_lexer": "ipython3",
   "version": "3.8.3"
  }
 },
 "nbformat": 4,
 "nbformat_minor": 4
}
